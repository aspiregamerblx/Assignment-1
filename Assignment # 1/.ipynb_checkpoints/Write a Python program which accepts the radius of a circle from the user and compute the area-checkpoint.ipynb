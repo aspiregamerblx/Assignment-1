{
 "cells": [
  {
   "cell_type": "code",
   "execution_count": 1,
   "id": "6c8b8886",
   "metadata": {},
   "outputs": [
    {
     "name": "stdout",
     "output_type": "stream",
     "text": [
      "Program to Get Area Of Circle\n",
      "Enter The Radius Of The Circle :2\n",
      "Area Of Circle  12.566370614359172\n"
     ]
    }
   ],
   "source": [
    "print(\"Program to Get Area Of Circle\")\n",
    "from math import pi\n",
    "\n",
    "r = float(input(\"Enter The Radius Of The Circle :\")) \n",
    "print ((\"Area Of Circle \"), pi * r**2)"
   ]
  },
  {
   "cell_type": "code",
   "execution_count": null,
   "id": "20a5df37",
   "metadata": {},
   "outputs": [],
   "source": []
  }
 ],
 "metadata": {
  "kernelspec": {
   "display_name": "Python 3 (ipykernel)",
   "language": "python",
   "name": "python3"
  },
  "language_info": {
   "codemirror_mode": {
    "name": "ipython",
    "version": 3
   },
   "file_extension": ".py",
   "mimetype": "text/x-python",
   "name": "python",
   "nbconvert_exporter": "python",
   "pygments_lexer": "ipython3",
   "version": "3.9.7"
  }
 },
 "nbformat": 4,
 "nbformat_minor": 5
}

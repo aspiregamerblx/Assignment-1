{
 "cells": [
  {
   "cell_type": "code",
   "execution_count": 2,
   "id": "46dd532d",
   "metadata": {},
   "outputs": [
    {
     "name": "stdout",
     "output_type": "stream",
     "text": [
      "Program To Get Sum To Two Number\n",
      "Enter Number 1 1024\n",
      "Enter Number 2 2048\n",
      "3072.0\n"
     ]
    }
   ],
   "source": [
    "print (\"Program To Get Sum To Two Number\")\n",
    "A = input (\"Enter Number 1 \") \n",
    "B = input (\"Enter Number 2 \")\n",
    "sum = float(A) + float(B)\n",
    "print( sum)"
   ]
  },
  {
   "cell_type": "code",
   "execution_count": null,
   "id": "1a6dea96",
   "metadata": {},
   "outputs": [],
   "source": []
  }
 ],
 "metadata": {
  "kernelspec": {
   "display_name": "Python 3 (ipykernel)",
   "language": "python",
   "name": "python3"
  },
  "language_info": {
   "codemirror_mode": {
    "name": "ipython",
    "version": 3
   },
   "file_extension": ".py",
   "mimetype": "text/x-python",
   "name": "python",
   "nbconvert_exporter": "python",
   "pygments_lexer": "ipython3",
   "version": "3.9.7"
  }
 },
 "nbformat": 4,
 "nbformat_minor": 5
}

{
 "cells": [
  {
   "cell_type": "code",
   "execution_count": 1,
   "id": "424729e6",
   "metadata": {},
   "outputs": [
    {
     "name": "stdout",
     "output_type": "stream",
     "text": [
      "Enter Your First Name Marzuq \n",
      "Enter Your Last Name Shah\n",
      "Shah Marzuq \n"
     ]
    }
   ],
   "source": [
    "A = (input (\"Enter Your First Name \"))\n",
    "B = (   input (\"Enter Your Last Name \"))\n",
    "print (B + \" \" + A )"
   ]
  },
  {
   "cell_type": "code",
   "execution_count": null,
   "id": "575bdfd3",
   "metadata": {},
   "outputs": [],
   "source": []
  }
 ],
 "metadata": {
  "kernelspec": {
   "display_name": "Python 3 (ipykernel)",
   "language": "python",
   "name": "python3"
  },
  "language_info": {
   "codemirror_mode": {
    "name": "ipython",
    "version": 3
   },
   "file_extension": ".py",
   "mimetype": "text/x-python",
   "name": "python",
   "nbconvert_exporter": "python",
   "pygments_lexer": "ipython3",
   "version": "3.9.7"
  }
 },
 "nbformat": 4,
 "nbformat_minor": 5
}
